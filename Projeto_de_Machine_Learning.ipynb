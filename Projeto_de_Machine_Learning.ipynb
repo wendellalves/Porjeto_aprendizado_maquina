{
  "nbformat": 4,
  "nbformat_minor": 0,
  "metadata": {
    "kernelspec": {
      "name": "python3",
      "display_name": "Python 3"
    },
    "language_info": {
      "codemirror_mode": {
        "name": "ipython",
        "version": 3
      },
      "file_extension": ".py",
      "mimetype": "text/x-python",
      "name": "python",
      "nbconvert_exporter": "python",
      "pygments_lexer": "ipython3",
      "version": "3.6.9"
    },
    "colab": {
      "name": "Projeto de Machine Learning",
      "provenance": [],
      "collapsed_sections": []
    },
    "accelerator": "GPU"
  },
  "cells": [
    {
      "cell_type": "code",
      "metadata": {
        "id": "LaocqbKQkD4q",
        "colab_type": "code",
        "outputId": "d33e9668-a60d-4abd-a0ec-164398817ab6",
        "colab": {
          "base_uri": "https://localhost:8080/",
          "height": 80
        }
      },
      "source": [
        "import pandas as pd\n",
        "import numpy as np\n",
        "import matplotlib.pyplot as plt\n",
        "from sklearn.ensemble import BaggingRegressor \n",
        "from sklearn.tree import DecisionTreeRegressor\n",
        "from sklearn.metrics import mean_squared_error\n",
        "from sklearn.model_selection import cross_validate\n",
        "from sklearn.model_selection import train_test_split\n",
        "\n",
        "from sklearn.metrics import mean_absolute_error\n",
        "\n",
        "# univariate multi-step lstm\n",
        "from math import sqrt\n",
        "from numpy import split\n",
        "from numpy import array\n",
        "\n",
        "from keras.models import Sequential\n",
        "from keras.layers import Dense\n",
        "from keras.layers import Flatten\n",
        "from keras.layers import LSTM\n",
        "\n",
        "import os\n",
        "from google.colab import drive"
      ],
      "execution_count": 0,
      "outputs": [
        {
          "output_type": "stream",
          "text": [
            "Using TensorFlow backend.\n"
          ],
          "name": "stderr"
        },
        {
          "output_type": "display_data",
          "data": {
            "text/html": [
              "<p style=\"color: red;\">\n",
              "The default version of TensorFlow in Colab will soon switch to TensorFlow 2.x.<br>\n",
              "We recommend you <a href=\"https://www.tensorflow.org/guide/migrate\" target=\"_blank\">upgrade</a> now \n",
              "or ensure your notebook will continue to use TensorFlow 1.x via the <code>%tensorflow_version 1.x</code> magic:\n",
              "<a href=\"https://colab.research.google.com/notebooks/tensorflow_version.ipynb\" target=\"_blank\">more info</a>.</p>\n"
            ],
            "text/plain": [
              "<IPython.core.display.HTML object>"
            ]
          },
          "metadata": {
            "tags": []
          }
        }
      ]
    },
    {
      "cell_type": "code",
      "metadata": {
        "id": "heHiHFCcpzzS",
        "colab_type": "code",
        "colab": {}
      },
      "source": [
        "!pip install -U tensorflow\n"
      ],
      "execution_count": 0,
      "outputs": []
    },
    {
      "cell_type": "code",
      "metadata": {
        "id": "E0O3yzsvyj3h",
        "colab_type": "code",
        "outputId": "28c2740f-a423-4143-e628-36872c691acf",
        "colab": {
          "base_uri": "https://localhost:8080/",
          "height": 139
        }
      },
      "source": [
        "drive.mount('/gdrive')\n",
        "!ls\n"
      ],
      "execution_count": 0,
      "outputs": [
        {
          "output_type": "stream",
          "text": [
            "Go to this URL in a browser: https://accounts.google.com/o/oauth2/auth?client_id=947318989803-6bn6qk8qdgf4n4g3pfee6491hc0brc4i.apps.googleusercontent.com&redirect_uri=urn%3aietf%3awg%3aoauth%3a2.0%3aoob&response_type=code&scope=email%20https%3a%2f%2fwww.googleapis.com%2fauth%2fdocs.test%20https%3a%2f%2fwww.googleapis.com%2fauth%2fdrive%20https%3a%2f%2fwww.googleapis.com%2fauth%2fdrive.photos.readonly%20https%3a%2f%2fwww.googleapis.com%2fauth%2fpeopleapi.readonly\n",
            "\n",
            "Enter your authorization code:\n",
            "··········\n",
            "Mounted at /gdrive\n",
            "sample_data\n"
          ],
          "name": "stdout"
        }
      ]
    },
    {
      "cell_type": "code",
      "metadata": {
        "id": "6JaIptaRzXyy",
        "colab_type": "code",
        "colab": {}
      },
      "source": [
        "path = '/gdrive/My Drive/UFRN/Mestrado/Machine Learning'\n",
        "os.chdir(path)\n",
        "with open('household_power_consumption.csv','r') as f:\n",
        "  dataset = pd.read_csv(f, sep=';', \n",
        "                      header=0, low_memory=False, infer_datetime_format=True, \n",
        "                      parse_dates={'datetime':[0,1]}, index_col=['datetime'])"
      ],
      "execution_count": 0,
      "outputs": []
    },
    {
      "cell_type": "code",
      "metadata": {
        "id": "-J6wpPMYkD4x",
        "colab_type": "code",
        "outputId": "44a0b4a1-c741-4fd0-b9b1-28e5791fc46c",
        "colab": {
          "base_uri": "https://localhost:8080/",
          "height": 235
        }
      },
      "source": [
        "# dataset = pd.read_csv('household_power_consumption.csv', sep=';', \n",
        "#                       header=0, low_memory=False, infer_datetime_format=True, \n",
        "#                       parse_dates={'datetime':[0,1]}, index_col=['datetime'])\n",
        "\n",
        "\n",
        "\n",
        "# dataset.drop('Voltage', inplace=True, axis=1)\n",
        "dataset.head()"
      ],
      "execution_count": 0,
      "outputs": [
        {
          "output_type": "execute_result",
          "data": {
            "text/html": [
              "<div>\n",
              "<style scoped>\n",
              "    .dataframe tbody tr th:only-of-type {\n",
              "        vertical-align: middle;\n",
              "    }\n",
              "\n",
              "    .dataframe tbody tr th {\n",
              "        vertical-align: top;\n",
              "    }\n",
              "\n",
              "    .dataframe thead th {\n",
              "        text-align: right;\n",
              "    }\n",
              "</style>\n",
              "<table border=\"1\" class=\"dataframe\">\n",
              "  <thead>\n",
              "    <tr style=\"text-align: right;\">\n",
              "      <th></th>\n",
              "      <th>Global_active_power</th>\n",
              "      <th>Global_reactive_power</th>\n",
              "      <th>Voltage</th>\n",
              "      <th>Global_intensity</th>\n",
              "      <th>Sub_metering_1</th>\n",
              "      <th>Sub_metering_2</th>\n",
              "      <th>Sub_metering_3</th>\n",
              "    </tr>\n",
              "    <tr>\n",
              "      <th>datetime</th>\n",
              "      <th></th>\n",
              "      <th></th>\n",
              "      <th></th>\n",
              "      <th></th>\n",
              "      <th></th>\n",
              "      <th></th>\n",
              "      <th></th>\n",
              "    </tr>\n",
              "  </thead>\n",
              "  <tbody>\n",
              "    <tr>\n",
              "      <th>2006-12-16 17:24:00</th>\n",
              "      <td>4.216</td>\n",
              "      <td>0.418</td>\n",
              "      <td>234.840</td>\n",
              "      <td>18.400</td>\n",
              "      <td>0.000</td>\n",
              "      <td>1.000</td>\n",
              "      <td>17.0</td>\n",
              "    </tr>\n",
              "    <tr>\n",
              "      <th>2006-12-16 17:25:00</th>\n",
              "      <td>5.360</td>\n",
              "      <td>0.436</td>\n",
              "      <td>233.630</td>\n",
              "      <td>23.000</td>\n",
              "      <td>0.000</td>\n",
              "      <td>1.000</td>\n",
              "      <td>16.0</td>\n",
              "    </tr>\n",
              "    <tr>\n",
              "      <th>2006-12-16 17:26:00</th>\n",
              "      <td>5.374</td>\n",
              "      <td>0.498</td>\n",
              "      <td>233.290</td>\n",
              "      <td>23.000</td>\n",
              "      <td>0.000</td>\n",
              "      <td>2.000</td>\n",
              "      <td>17.0</td>\n",
              "    </tr>\n",
              "    <tr>\n",
              "      <th>2006-12-16 17:27:00</th>\n",
              "      <td>5.388</td>\n",
              "      <td>0.502</td>\n",
              "      <td>233.740</td>\n",
              "      <td>23.000</td>\n",
              "      <td>0.000</td>\n",
              "      <td>1.000</td>\n",
              "      <td>17.0</td>\n",
              "    </tr>\n",
              "    <tr>\n",
              "      <th>2006-12-16 17:28:00</th>\n",
              "      <td>3.666</td>\n",
              "      <td>0.528</td>\n",
              "      <td>235.680</td>\n",
              "      <td>15.800</td>\n",
              "      <td>0.000</td>\n",
              "      <td>1.000</td>\n",
              "      <td>17.0</td>\n",
              "    </tr>\n",
              "  </tbody>\n",
              "</table>\n",
              "</div>"
            ],
            "text/plain": [
              "                    Global_active_power  ... Sub_metering_3\n",
              "datetime                                 ...               \n",
              "2006-12-16 17:24:00               4.216  ...           17.0\n",
              "2006-12-16 17:25:00               5.360  ...           16.0\n",
              "2006-12-16 17:26:00               5.374  ...           17.0\n",
              "2006-12-16 17:27:00               5.388  ...           17.0\n",
              "2006-12-16 17:28:00               3.666  ...           17.0\n",
              "\n",
              "[5 rows x 7 columns]"
            ]
          },
          "metadata": {
            "tags": []
          },
          "execution_count": 6
        }
      ]
    },
    {
      "cell_type": "code",
      "metadata": {
        "id": "waKjnOaIkD42",
        "colab_type": "code",
        "outputId": "7b595f92-5be1-42c5-d63b-afdce39aa1f6",
        "colab": {
          "base_uri": "https://localhost:8080/",
          "height": 71
        }
      },
      "source": [
        "colunas = ['Global_active_power', 'Global_reactive_power', 'Voltage',\n",
        "           'Global_intensity', 'Sub_metering_1', 'Sub_metering_2', 'Sub_metering_3']\n",
        "\n",
        "for c in colunas:\n",
        "    dataset[ dataset[c] == '?' ] = np.nan\n",
        "    dataset[c] = dataset[c].astype('float32')\n",
        "    "
      ],
      "execution_count": 0,
      "outputs": [
        {
          "output_type": "stream",
          "text": [
            "/usr/local/lib/python3.6/dist-packages/pandas/core/ops/__init__.py:1115: FutureWarning: elementwise comparison failed; returning scalar instead, but in the future will perform elementwise comparison\n",
            "  result = method(y)\n"
          ],
          "name": "stderr"
        }
      ]
    },
    {
      "cell_type": "code",
      "metadata": {
        "id": "dOXQlLLTvNxR",
        "colab_type": "code",
        "colab": {}
      },
      "source": [
        "def fill_missing(values):\n",
        "\tone_day = 60 * 24\n",
        "\tfor row in range(values.shape[0]):\n",
        "\t\tfor col in range(values.shape[1]):\n",
        "\t\t\tif np.isnan(values[row, col]):\n",
        "\t\t\t\tvalues[row, col] = values[row - one_day, col]\n",
        "\n",
        "fill_missing(dataset.values)\n",
        "\n",
        "dataset['sub_metering_4'] = (dataset.iloc[:,0] * 1000 / 60) - (dataset.iloc[:,3] + dataset.iloc[:,4] + dataset.iloc[:,5])\n",
        "\n",
        "\n",
        "# dataset['sub_metering_4'] = (dataset['Global_active_power']* 1000 / 60) - \n",
        "# \t\t\t(dataset['Sub_metering_1'] + dataset['Sub_metering_2'] + dataset['Sub_metering_3'])\n"
      ],
      "execution_count": 0,
      "outputs": []
    },
    {
      "cell_type": "code",
      "metadata": {
        "id": "b5zg3qYOkD46",
        "colab_type": "code",
        "outputId": "d3c43135-3b6c-441e-f6e2-21cfe79129e1",
        "colab": {
          "base_uri": "https://localhost:8080/",
          "height": 320
        }
      },
      "source": [
        "dataset.head()"
      ],
      "execution_count": 0,
      "outputs": [
        {
          "output_type": "execute_result",
          "data": {
            "text/html": [
              "<div>\n",
              "<style scoped>\n",
              "    .dataframe tbody tr th:only-of-type {\n",
              "        vertical-align: middle;\n",
              "    }\n",
              "\n",
              "    .dataframe tbody tr th {\n",
              "        vertical-align: top;\n",
              "    }\n",
              "\n",
              "    .dataframe thead th {\n",
              "        text-align: right;\n",
              "    }\n",
              "</style>\n",
              "<table border=\"1\" class=\"dataframe\">\n",
              "  <thead>\n",
              "    <tr style=\"text-align: right;\">\n",
              "      <th></th>\n",
              "      <th>Global_active_power</th>\n",
              "      <th>Global_reactive_power</th>\n",
              "      <th>Voltage</th>\n",
              "      <th>Global_intensity</th>\n",
              "      <th>Sub_metering_1</th>\n",
              "      <th>Sub_metering_2</th>\n",
              "      <th>Sub_metering_3</th>\n",
              "      <th>sub_metering_4</th>\n",
              "    </tr>\n",
              "    <tr>\n",
              "      <th>datetime</th>\n",
              "      <th></th>\n",
              "      <th></th>\n",
              "      <th></th>\n",
              "      <th></th>\n",
              "      <th></th>\n",
              "      <th></th>\n",
              "      <th></th>\n",
              "      <th></th>\n",
              "    </tr>\n",
              "  </thead>\n",
              "  <tbody>\n",
              "    <tr>\n",
              "      <th>2006-12-16 17:24:00</th>\n",
              "      <td>4.216</td>\n",
              "      <td>0.418</td>\n",
              "      <td>234.839996</td>\n",
              "      <td>18.4</td>\n",
              "      <td>0.0</td>\n",
              "      <td>1.0</td>\n",
              "      <td>17.0</td>\n",
              "      <td>50.866669</td>\n",
              "    </tr>\n",
              "    <tr>\n",
              "      <th>2006-12-16 17:25:00</th>\n",
              "      <td>5.360</td>\n",
              "      <td>0.436</td>\n",
              "      <td>233.630005</td>\n",
              "      <td>23.0</td>\n",
              "      <td>0.0</td>\n",
              "      <td>1.0</td>\n",
              "      <td>16.0</td>\n",
              "      <td>65.333336</td>\n",
              "    </tr>\n",
              "    <tr>\n",
              "      <th>2006-12-16 17:26:00</th>\n",
              "      <td>5.374</td>\n",
              "      <td>0.498</td>\n",
              "      <td>233.289993</td>\n",
              "      <td>23.0</td>\n",
              "      <td>0.0</td>\n",
              "      <td>2.0</td>\n",
              "      <td>17.0</td>\n",
              "      <td>64.566666</td>\n",
              "    </tr>\n",
              "    <tr>\n",
              "      <th>2006-12-16 17:27:00</th>\n",
              "      <td>5.388</td>\n",
              "      <td>0.502</td>\n",
              "      <td>233.740005</td>\n",
              "      <td>23.0</td>\n",
              "      <td>0.0</td>\n",
              "      <td>1.0</td>\n",
              "      <td>17.0</td>\n",
              "      <td>65.800003</td>\n",
              "    </tr>\n",
              "    <tr>\n",
              "      <th>2006-12-16 17:28:00</th>\n",
              "      <td>3.666</td>\n",
              "      <td>0.528</td>\n",
              "      <td>235.679993</td>\n",
              "      <td>15.8</td>\n",
              "      <td>0.0</td>\n",
              "      <td>1.0</td>\n",
              "      <td>17.0</td>\n",
              "      <td>44.299999</td>\n",
              "    </tr>\n",
              "  </tbody>\n",
              "</table>\n",
              "</div>"
            ],
            "text/plain": [
              "                     Global_active_power  ...  sub_metering_4\n",
              "datetime                                  ...                \n",
              "2006-12-16 17:24:00                4.216  ...       50.866669\n",
              "2006-12-16 17:25:00                5.360  ...       65.333336\n",
              "2006-12-16 17:26:00                5.374  ...       64.566666\n",
              "2006-12-16 17:27:00                5.388  ...       65.800003\n",
              "2006-12-16 17:28:00                3.666  ...       44.299999\n",
              "\n",
              "[5 rows x 8 columns]"
            ]
          },
          "metadata": {
            "tags": []
          },
          "execution_count": 9
        }
      ]
    },
    {
      "cell_type": "code",
      "metadata": {
        "id": "6kQd-ZL31wk0",
        "colab_type": "code",
        "outputId": "064db969-966f-4dee-c23a-f31770f0e139",
        "colab": {
          "base_uri": "https://localhost:8080/",
          "height": 340
        }
      },
      "source": [
        "daily_data = dataset.resample('D').sum()\n",
        "\n",
        "daily_data.head()\n"
      ],
      "execution_count": 0,
      "outputs": [
        {
          "output_type": "execute_result",
          "data": {
            "text/html": [
              "<div>\n",
              "<style scoped>\n",
              "    .dataframe tbody tr th:only-of-type {\n",
              "        vertical-align: middle;\n",
              "    }\n",
              "\n",
              "    .dataframe tbody tr th {\n",
              "        vertical-align: top;\n",
              "    }\n",
              "\n",
              "    .dataframe thead th {\n",
              "        text-align: right;\n",
              "    }\n",
              "</style>\n",
              "<table border=\"1\" class=\"dataframe\">\n",
              "  <thead>\n",
              "    <tr style=\"text-align: right;\">\n",
              "      <th></th>\n",
              "      <th>Global_active_power</th>\n",
              "      <th>Global_reactive_power</th>\n",
              "      <th>Voltage</th>\n",
              "      <th>Global_intensity</th>\n",
              "      <th>Sub_metering_1</th>\n",
              "      <th>Sub_metering_2</th>\n",
              "      <th>Sub_metering_3</th>\n",
              "      <th>sub_metering_4</th>\n",
              "    </tr>\n",
              "    <tr>\n",
              "      <th>datetime</th>\n",
              "      <th></th>\n",
              "      <th></th>\n",
              "      <th></th>\n",
              "      <th></th>\n",
              "      <th></th>\n",
              "      <th></th>\n",
              "      <th></th>\n",
              "      <th></th>\n",
              "    </tr>\n",
              "  </thead>\n",
              "  <tbody>\n",
              "    <tr>\n",
              "      <th>2006-12-16</th>\n",
              "      <td>1209.176025</td>\n",
              "      <td>34.922001</td>\n",
              "      <td>93552.53125</td>\n",
              "      <td>5180.799805</td>\n",
              "      <td>0.0</td>\n",
              "      <td>546.0</td>\n",
              "      <td>4926.0</td>\n",
              "      <td>14426.133789</td>\n",
              "    </tr>\n",
              "    <tr>\n",
              "      <th>2006-12-17</th>\n",
              "      <td>3390.459961</td>\n",
              "      <td>226.005997</td>\n",
              "      <td>345725.31250</td>\n",
              "      <td>14398.599609</td>\n",
              "      <td>2033.0</td>\n",
              "      <td>4187.0</td>\n",
              "      <td>13341.0</td>\n",
              "      <td>35889.066406</td>\n",
              "    </tr>\n",
              "    <tr>\n",
              "      <th>2006-12-18</th>\n",
              "      <td>2203.825928</td>\n",
              "      <td>161.792007</td>\n",
              "      <td>347373.62500</td>\n",
              "      <td>9247.200195</td>\n",
              "      <td>1063.0</td>\n",
              "      <td>2621.0</td>\n",
              "      <td>14018.0</td>\n",
              "      <td>23799.232422</td>\n",
              "    </tr>\n",
              "    <tr>\n",
              "      <th>2006-12-19</th>\n",
              "      <td>1666.193970</td>\n",
              "      <td>150.942001</td>\n",
              "      <td>348479.00000</td>\n",
              "      <td>7094.000000</td>\n",
              "      <td>839.0</td>\n",
              "      <td>7602.0</td>\n",
              "      <td>6197.0</td>\n",
              "      <td>12234.900391</td>\n",
              "    </tr>\n",
              "    <tr>\n",
              "      <th>2006-12-20</th>\n",
              "      <td>2225.748047</td>\n",
              "      <td>160.998001</td>\n",
              "      <td>348923.62500</td>\n",
              "      <td>9313.000000</td>\n",
              "      <td>0.0</td>\n",
              "      <td>2648.0</td>\n",
              "      <td>14063.0</td>\n",
              "      <td>25134.800781</td>\n",
              "    </tr>\n",
              "  </tbody>\n",
              "</table>\n",
              "</div>"
            ],
            "text/plain": [
              "            Global_active_power  ...  sub_metering_4\n",
              "datetime                         ...                \n",
              "2006-12-16          1209.176025  ...    14426.133789\n",
              "2006-12-17          3390.459961  ...    35889.066406\n",
              "2006-12-18          2203.825928  ...    23799.232422\n",
              "2006-12-19          1666.193970  ...    12234.900391\n",
              "2006-12-20          2225.748047  ...    25134.800781\n",
              "\n",
              "[5 rows x 8 columns]"
            ]
          },
          "metadata": {
            "tags": []
          },
          "execution_count": 10
        }
      ]
    },
    {
      "cell_type": "code",
      "metadata": {
        "id": "qSzMjZou5C6v",
        "colab_type": "code",
        "colab": {}
      },
      "source": [
        "# evaluate one or more weekly forecasts against expected values\n",
        "def evaluate_forecasts(actual, predicted):\n",
        "\tscores = list()\n",
        "\t# calculate an RMSE score for each day\n",
        "\tfor i in range(actual.shape[1]):\n",
        "\t\t# calculate mse\n",
        "\t\tmse = mean_squared_error(actual[:, i], predicted[:, i])\n",
        "\t\t# calculate rmse\n",
        "\t\trmse = sqrt(mse)\n",
        "\t\t# store\n",
        "\t\tscores.append(rmse)\n",
        "\t# calculate overall RMSE\n",
        "\ts = 0\n",
        "\tfor row in range(actual.shape[0]):\n",
        "\t\tfor col in range(actual.shape[1]):\n",
        "\t\t\ts += (actual[row, col] - predicted[row, col])**2\n",
        "\tscore = sqrt(s / (actual.shape[0] * actual.shape[1]))\n",
        "\treturn score, scores"
      ],
      "execution_count": 0,
      "outputs": []
    },
    {
      "cell_type": "code",
      "metadata": {
        "id": "Go5KYDGIK1yl",
        "colab_type": "code",
        "colab": {}
      },
      "source": [
        "# evaluate one or more weekly forecasts against expected values\n",
        "def evaluate_forecasts_mae(actual, predicted):\n",
        "\tscores = list()\n",
        "\t# calculate an RMSE score for each day\n",
        "\tfor i in range(actual.shape[1]):\n",
        "\t\t# calculate mse\n",
        "\t\tmae = mean_absolute_error(actual[:, i], predicted[:, i])\n",
        "\t\t# calculate rmse\n",
        "\t\t# rmse = sqrt(mse)\n",
        "\t\t# store\n",
        "\t\tscores.append(mae)\n",
        "\t# calculate overall RMSE\n",
        "\ts = 0\n",
        "\tfor row in range(actual.shape[0]):\n",
        "\t\tfor col in range(actual.shape[1]):\n",
        "\t\t\ts += (actual[row, col] - predicted[row, col])\n",
        "\tscore = (s / (actual.shape[0] * actual.shape[1]))\n",
        "\treturn score, scores"
      ],
      "execution_count": 0,
      "outputs": []
    },
    {
      "cell_type": "code",
      "metadata": {
        "id": "ClBm2ooP5082",
        "colab_type": "code",
        "colab": {}
      },
      "source": [
        "# split a univariate dataset into train/test sets\n",
        "def split_dataset(data):\n",
        "\t# split into standard weeks\n",
        "\ttrain, test = data[1:-328], data[-328:-6]\n",
        "\t\n",
        "\t# restructure into windows of weekly data\n",
        "\ttrain = np.array(np.split(train, len(train)/7))\n",
        "\ttest = np.array(np.split(test, len(test)/7))\n",
        "\t\n",
        "\treturn train, test"
      ],
      "execution_count": 0,
      "outputs": []
    },
    {
      "cell_type": "code",
      "metadata": {
        "id": "IsDinQC477m2",
        "colab_type": "code",
        "colab": {}
      },
      "source": [
        "# summarize scores\n",
        "def summarize_scores(name, score, scores):\n",
        "\ts_scores = ', '.join(['%.1f' % s for s in scores])\n",
        "\tprint('%s: [%.3f] %s' % (name, score, s_scores))"
      ],
      "execution_count": 0,
      "outputs": []
    },
    {
      "cell_type": "code",
      "metadata": {
        "id": "2jMhruQJ78Kb",
        "colab_type": "code",
        "colab": {}
      },
      "source": [
        "# convert history into inputs and outputs\n",
        "def to_supervised(train, n_input, n_out=7):\n",
        "\t# flatten data\n",
        "\tdata = train.reshape((train.shape[0]*train.shape[1], train.shape[2]))\n",
        "\tX, y = list(), list()\n",
        "\tin_start = 0\n",
        "\t# step over the entire history one time step at a time\n",
        "\tfor _ in range(len(data)):\n",
        "\t\t# define the end of the input sequence\n",
        "\t\tin_end = in_start + n_input\n",
        "\t\tout_end = in_end + n_out\n",
        "\t\t# ensure we have enough data for this instance\n",
        "\t\tif out_end <= len(data):\n",
        "\t\t\tx_input = data[in_start:in_end, 0]\n",
        "\t\t\tx_input = x_input.reshape((len(x_input), 1))\n",
        "\t\t\tX.append(x_input)\n",
        "\t\t\ty.append(data[in_end:out_end, 0])\n",
        "\t\t# move along one time step\n",
        "\t\tin_start += 1\n",
        "\treturn np.array(X), np.array(y)"
      ],
      "execution_count": 0,
      "outputs": []
    },
    {
      "cell_type": "code",
      "metadata": {
        "id": "QIyPXbet8bxI",
        "colab_type": "code",
        "colab": {}
      },
      "source": [
        "def build_model(train, n_input):\n",
        "\t# prepare data\n",
        "\ttrain_x, train_y = to_supervised(train, n_input)\n",
        "\t# define parameters\n",
        "\tverbose, epochs, batch_size = 0, 70, 16\n",
        "\tn_timesteps, n_features, n_outputs = train_x.shape[1], train_x.shape[2], train_y.shape[1]\n",
        "\t# define model\n",
        "\tmodel = Sequential()\n",
        "\tmodel.add(LSTM(200, activation='relu', input_shape=(n_timesteps, n_features)))\n",
        "\tmodel.add(Dense(100, activation='relu'))\n",
        "\tmodel.add(Dense(n_outputs))\n",
        "\tmodel.compile(loss='mse', optimizer='adam')\n",
        "\t# fit network\n",
        "\tmodel.fit(train_x, train_y, epochs=epochs, batch_size=batch_size, verbose=verbose)\n",
        "\treturn model"
      ],
      "execution_count": 0,
      "outputs": []
    },
    {
      "cell_type": "code",
      "metadata": {
        "id": "gbGsigP68u-m",
        "colab_type": "code",
        "colab": {}
      },
      "source": [
        "# make a forecast\n",
        "def forecast(model, history, n_input):\n",
        "\t# flatten data\n",
        "\tdata = array(history)\n",
        "\tdata = data.reshape((data.shape[0]*data.shape[1], data.shape[2]))\n",
        "\t# retrieve last observations for input data\n",
        "\tinput_x = data[-n_input:, 0]\n",
        "\t# reshape into [1, n_input, 1]\n",
        "\tinput_x = input_x.reshape((1, len(input_x), 1))\n",
        "\t# forecast the next week\n",
        "\tyhat = model.predict(input_x, verbose=0)\n",
        "\t# we only want the vector forecast\n",
        "\tyhat = yhat[0]\n",
        "\treturn yhat\n",
        " \n",
        "# evaluate a single model\n",
        "def evaluate_model(train, test, n_input):\n",
        "\t# fit model\n",
        "\tmodel = build_model(train, n_input)\n",
        "\t# history is a list of weekly data\n",
        "\thistory = [x for x in train]\n",
        "\t# walk-forward validation over each week\n",
        "\tpredictions = list()\n",
        "\tfor i in range(len(test)):\n",
        "\t\t# predict the week\n",
        "\t\tyhat_sequence = forecast(model, history, n_input)\n",
        "\t\t# store the predictions\n",
        "\t\tpredictions.append(yhat_sequence)\n",
        "\t\t# get real observation and add to history for predicting the next week\n",
        "\t\thistory.append(test[i, :])\n",
        "\t# evaluate predictions days for each week\n",
        "\tpredictions = array(predictions)\n",
        "\t\n",
        "\tscore, scores = evaluate_forecasts(test[:, :, 0], predictions)\n",
        "\treturn score, scores, predictions\n"
      ],
      "execution_count": 0,
      "outputs": []
    },
    {
      "cell_type": "code",
      "metadata": {
        "id": "XBBa847G8wRA",
        "colab_type": "code",
        "outputId": "338ae9c3-7ddd-4fb1-961c-4d810254d17d",
        "colab": {
          "base_uri": "https://localhost:8080/",
          "height": 761
        }
      },
      "source": [
        "n_input = 7\n",
        "\n",
        "train, test = split_dataset(daily_data.values)\n",
        "\n",
        "score, scores, predictions = evaluate_model(train, test, n_input)\n",
        "# summarize scores\n",
        "summarize_scores('lstm', score, scores)\n",
        "# plot scores\n",
        "days = ['sun', 'mon', 'tue', 'wed', 'thr', 'fri', 'sat']\n",
        "plt.plot(days, scores, marker='o', label='lstm')\n",
        "plt.show()"
      ],
      "execution_count": 0,
      "outputs": [
        {
          "output_type": "stream",
          "text": [
            "WARNING:tensorflow:From /usr/local/lib/python3.6/dist-packages/keras/backend/tensorflow_backend.py:66: The name tf.get_default_graph is deprecated. Please use tf.compat.v1.get_default_graph instead.\n",
            "\n",
            "WARNING:tensorflow:From /usr/local/lib/python3.6/dist-packages/keras/backend/tensorflow_backend.py:541: The name tf.placeholder is deprecated. Please use tf.compat.v1.placeholder instead.\n",
            "\n",
            "WARNING:tensorflow:From /usr/local/lib/python3.6/dist-packages/keras/backend/tensorflow_backend.py:4432: The name tf.random_uniform is deprecated. Please use tf.random.uniform instead.\n",
            "\n",
            "WARNING:tensorflow:From /usr/local/lib/python3.6/dist-packages/keras/optimizers.py:793: The name tf.train.Optimizer is deprecated. Please use tf.compat.v1.train.Optimizer instead.\n",
            "\n",
            "WARNING:tensorflow:From /usr/local/lib/python3.6/dist-packages/tensorflow_core/python/ops/math_grad.py:1424: where (from tensorflow.python.ops.array_ops) is deprecated and will be removed in a future version.\n",
            "Instructions for updating:\n",
            "Use tf.where in 2.0, which has the same broadcast rule as np.where\n",
            "WARNING:tensorflow:From /usr/local/lib/python3.6/dist-packages/keras/backend/tensorflow_backend.py:1033: The name tf.assign_add is deprecated. Please use tf.compat.v1.assign_add instead.\n",
            "\n",
            "WARNING:tensorflow:From /usr/local/lib/python3.6/dist-packages/keras/backend/tensorflow_backend.py:1020: The name tf.assign is deprecated. Please use tf.compat.v1.assign instead.\n",
            "\n",
            "WARNING:tensorflow:From /usr/local/lib/python3.6/dist-packages/keras/backend/tensorflow_backend.py:3005: The name tf.Session is deprecated. Please use tf.compat.v1.Session instead.\n",
            "\n",
            "WARNING:tensorflow:From /usr/local/lib/python3.6/dist-packages/keras/backend/tensorflow_backend.py:190: The name tf.get_default_session is deprecated. Please use tf.compat.v1.get_default_session instead.\n",
            "\n",
            "WARNING:tensorflow:From /usr/local/lib/python3.6/dist-packages/keras/backend/tensorflow_backend.py:197: The name tf.ConfigProto is deprecated. Please use tf.compat.v1.ConfigProto instead.\n",
            "\n",
            "WARNING:tensorflow:From /usr/local/lib/python3.6/dist-packages/keras/backend/tensorflow_backend.py:207: The name tf.global_variables is deprecated. Please use tf.compat.v1.global_variables instead.\n",
            "\n",
            "WARNING:tensorflow:From /usr/local/lib/python3.6/dist-packages/keras/backend/tensorflow_backend.py:216: The name tf.is_variable_initialized is deprecated. Please use tf.compat.v1.is_variable_initialized instead.\n",
            "\n",
            "WARNING:tensorflow:From /usr/local/lib/python3.6/dist-packages/keras/backend/tensorflow_backend.py:223: The name tf.variables_initializer is deprecated. Please use tf.compat.v1.variables_initializer instead.\n",
            "\n",
            "lstm: [402.370] 411.4, 404.2, 363.8, 399.6, 404.2, 312.4, 497.7\n"
          ],
          "name": "stdout"
        },
        {
          "output_type": "display_data",
          "data": {
            "image/png": "[encoded data removed]",
            "text/plain": [
              "<Figure size 432x288 with 1 Axes>"
            ]
          },
          "metadata": {
            "tags": []
          }
        }
      ]
    },
    {
      "cell_type": "code",
      "metadata": {
        "id": "C-1ndgM599Oa",
        "colab_type": "code",
        "outputId": "a7245b58-8723-4275-8dbf-a9ffa823dcdb",
        "colab": {
          "base_uri": "https://localhost:8080/",
          "height": 554
        }
      },
      "source": [
        "print(test[0])\n",
        "print(predictions[0])\n",
        "\n",
        "valores_reais_potencia_ativa = [2.0834541e+03,1.6041320e+03, 2.2197800e+03,1.7771801e+03,1.7694420e+03,1.7972080e+03,2.3368999e+03]\n",
        "\n",
        "print(len(test))\n",
        "print(len(predictions))\n",
        "\n",
        "days = ['sun', 'mon', 'tue', 'wed', 'thr', 'fri', 'sat']\n",
        "plt.plot(days, valores_reais_potencia_ativa, marker='o', label='Real')\n",
        "plt.plot(days, predictions[0], marker='x', label='Predito')\n",
        "plt.show()"
      ],
      "execution_count": 0,
      "outputs": [
        {
          "output_type": "stream",
          "text": [
            "[[2.0834541e+03 1.9161000e+02 3.5099212e+05 8.7035996e+03 3.8420000e+03\n",
            "  4.9200000e+03 1.0074000e+04 1.7258633e+04]\n",
            " [1.6041320e+03 1.5640401e+02 3.5380672e+05 6.6232002e+03 0.0000000e+00\n",
            "  2.9200000e+02 1.0812000e+04 1.9820334e+04]\n",
            " [2.2197800e+03 1.4893600e+02 3.5211028e+05 9.1397998e+03 1.7850000e+03\n",
            "  2.9300000e+02 1.6468000e+04 2.5778533e+04]\n",
            " [1.7771801e+03 1.5208000e+02 3.5313812e+05 7.3613999e+03 1.7310000e+03\n",
            "  3.2560000e+03 1.1359000e+04 1.7271268e+04]\n",
            " [1.7694420e+03 1.1502400e+02 3.5266834e+05 7.3003999e+03 1.1980000e+03\n",
            "  2.5500000e+02 1.2936000e+04 2.0737301e+04]\n",
            " [1.7972080e+03 1.5978000e+02 3.5194294e+05 7.4180000e+03 0.0000000e+00\n",
            "  9.9400000e+02 1.2531000e+04 2.1541467e+04]\n",
            " [2.3368999e+03 1.9939999e+02 3.5117241e+05 9.6962002e+03 2.7810000e+03\n",
            "  4.8550000e+03 1.4734000e+04 2.1616133e+04]]\n",
            "[1815.6837 1798.5371 1609.2733 1751.6981 1819.3964 1515.8828 1518.8063]\n",
            "46\n",
            "46\n"
          ],
          "name": "stdout"
        },
        {
          "output_type": "display_data",
          "data": {
            "image/png": "[encoded data removed]",
            "text/plain": [
              "<Figure size 432x288 with 1 Axes>"
            ]
          },
          "metadata": {
            "tags": []
          }
        }
      ]
    },
    {
      "cell_type": "code",
      "metadata": {
        "id": "eIgASh2c0htb",
        "colab_type": "code",
        "outputId": "29d880a3-f349-404b-aa5c-f57d5c3a4bf5",
        "colab": {
          "base_uri": "https://localhost:8080/",
          "height": 51
        }
      },
      "source": [
        "test[0,:,0] -predictions[0]"
      ],
      "execution_count": 0,
      "outputs": [
        {
          "output_type": "execute_result",
          "data": {
            "text/plain": [
              "array([ 267.7704  , -194.40515 ,  610.5067  ,   25.481934,  -49.954346,\n",
              "        281.3252  ,  818.0936  ], dtype=float32)"
            ]
          },
          "metadata": {
            "tags": []
          },
          "execution_count": 28
        }
      ]
    },
    {
      "cell_type": "code",
      "metadata": {
        "id": "-vt8xC_AVVrV",
        "colab_type": "code",
        "outputId": "8141467a-6403-43a4-ea48-c122052935eb",
        "colab": {
          "base_uri": "https://localhost:8080/",
          "height": 124
        }
      },
      "source": [
        "!pip install tsaug"
      ],
      "execution_count": 0,
      "outputs": [
        {
          "output_type": "stream",
          "text": [
            "Collecting tsaug\n",
            "  Downloading https://files.pythonhosted.org/packages/5b/56/e5e9951fc43ea14117470a48a26221e19417ea59a621f309e3f9234d2ae3/tsaug-0.1.0-py3-none-any.whl\n",
            "Requirement already satisfied: numpy>=1.14 in /usr/local/lib/python3.6/dist-packages (from tsaug) (1.17.4)\n",
            "Requirement already satisfied: scipy>=1.3 in /usr/local/lib/python3.6/dist-packages (from tsaug) (1.3.2)\n",
            "Installing collected packages: tsaug\n",
            "Successfully installed tsaug-0.1.0\n"
          ],
          "name": "stdout"
        }
      ]
    },
    {
      "cell_type": "code",
      "metadata": {
        "id": "-llnCoc5VgLt",
        "colab_type": "code",
        "outputId": "e1afa5b4-18fc-484f-ec61-0775b358354d",
        "colab": {
          "base_uri": "https://localhost:8080/",
          "height": 124
        }
      },
      "source": [
        "!pip install transforms3d"
      ],
      "execution_count": 0,
      "outputs": [
        {
          "output_type": "stream",
          "text": [
            "Collecting transforms3d\n",
            "\u001b[?25l  Downloading https://files.pythonhosted.org/packages/b5/f7/e85809168a548a854d7c1331560c27b4f5381698d29c12e57759192b2bc1/transforms3d-0.3.1.tar.gz (62kB)\n",
            "\r\u001b[K     |█████▏                          | 10kB 21.3MB/s eta 0:00:01\r\u001b[K     |██████████▍                     | 20kB 2.2MB/s eta 0:00:01\r\u001b[K     |███████████████▋                | 30kB 3.2MB/s eta 0:00:01\r\u001b[K     |████████████████████▉           | 40kB 2.1MB/s eta 0:00:01\r\u001b[K     |██████████████████████████      | 51kB 2.6MB/s eta 0:00:01\r\u001b[K     |███████████████████████████████▎| 61kB 3.1MB/s eta 0:00:01\r\u001b[K     |████████████████████████████████| 71kB 2.6MB/s \n",
            "\u001b[?25hBuilding wheels for collected packages: transforms3d\n",
            "  Building wheel for transforms3d (setup.py) ... \u001b[?25l\u001b[?25hcanceled\n",
            "\u001b[31mERROR: Operation cancelled by user\u001b[0m\n"
          ],
          "name": "stdout"
        }
      ]
    },
    {
      "cell_type": "code",
      "metadata": {
        "id": "Xm_2pbOfVWNL",
        "colab_type": "code",
        "colab": {}
      },
      "source": [
        "from tsaug import RandomTimeWarp, RandomMagnify, RandomJitter, RandomTrend\n",
        "my_aug = (\n",
        "    RandomMagnify(max_zoom=4.0, min_zoom=2.0) * 2\n",
        "    + RandomTimeWarp() * 2\n",
        "    + RandomJitter(strength=0.1) @ 0.5\n",
        "    + RandomTrend(min_anchor=-0.5, max_anchor=0.5) @ 0.5\n",
        ")\n",
        "\n",
        "\n",
        "X_aug = my_aug.run(train)\n"
      ],
      "execution_count": 0,
      "outputs": []
    },
    {
      "cell_type": "code",
      "metadata": {
        "id": "M3x8qkINVWlf",
        "colab_type": "code",
        "outputId": "7a701f30-a5bc-42b9-a84d-3348834d5720",
        "colab": {
          "base_uri": "https://localhost:8080/",
          "height": 283
        }
      },
      "source": [
        "n_input = 7\n",
        "\n",
        "# train, test = split_dataset(daily_data.values)\n",
        "\n",
        "score_aug, scores_aug, predictions_aug = evaluate_model(X_aug, test, n_input)\n",
        "# summarize scores\n",
        "summarize_scores('lstm', score_aug, scores_aug)\n",
        "# plot scores\n",
        "days = ['sun', 'mon', 'tue', 'wed', 'thr', 'fri', 'sat']\n",
        "plt.plot(days, scores_aug, marker='o', label='lstm')\n",
        "plt.show()"
      ],
      "execution_count": 0,
      "outputs": [
        {
          "output_type": "stream",
          "text": [
            "lstm: [428.863] 421.9, 535.0, 409.2, 399.5, 402.8, 333.8, 471.8\n"
          ],
          "name": "stdout"
        },
        {
          "output_type": "display_data",
          "data": {
            "image/png": "[encoded data removed]",
            "text/plain": [
              "<Figure size 432x288 with 1 Axes>"
            ]
          },
          "metadata": {
            "tags": []
          }
        }
      ]
    },
    {
      "cell_type": "code",
      "metadata": {
        "id": "ImsrM1FlVWtx",
        "colab_type": "code",
        "outputId": "9b3381a0-2b3a-4507-a571-addc2ea48515",
        "colab": {
          "base_uri": "https://localhost:8080/",
          "height": 283
        }
      },
      "source": [
        "days = ['sun', 'mon', 'tue', 'wed', 'thr', 'fri', 'sat']\n",
        "valores_reais_poten2\n",
        "plt.plot(days, valores_reais_potencia_ativa, marker='o', label='lstm')\n",
        "plt.plot(days, predictions_aug[0], marker='x', label='lstm')\n",
        "plt.show()"
      ],
      "execution_count": 0,
      "outputs": [
        {
          "output_type": "stream",
          "text": [
            "[1991.5447 1951.2191 1925.4637 1868.0996 1866.7415 1860.3645 1835.3258]\n"
          ],
          "name": "stdout"
        },
        {
          "output_type": "display_data",
          "data": {
            "image/png": "[encoded data removed]",
            "text/plain": [
              "<Figure size 432x288 with 1 Axes>"
            ]
          },
          "metadata": {
            "tags": []
          }
        }
      ]
    }
  ]
}